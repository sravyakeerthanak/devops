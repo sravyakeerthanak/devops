{
  "nbformat": 4,
  "nbformat_minor": 0,
  "metadata": {
    "colab": {
      "provenance": [],
      "authorship_tag": "ABX9TyOAKmrCGja5pzTeWNF35EYO",
      "include_colab_link": true
    },
    "kernelspec": {
      "name": "python3",
      "display_name": "Python 3"
    },
    "language_info": {
      "name": "python"
    }
  },
  "cells": [
    {
      "cell_type": "markdown",
      "metadata": {
        "id": "view-in-github",
        "colab_type": "text"
      },
      "source": [
        "<a href=\"https://colab.research.google.com/github/sravyakeerthanak/devops/blob/main/ANN_CNN.ipynb\" target=\"_parent\"><img src=\"https://colab.research.google.com/assets/colab-badge.svg\" alt=\"Open In Colab\"/></a>"
      ]
    },
    {
      "cell_type": "code",
      "execution_count": null,
      "metadata": {
        "id": "pCLyRGqyv8VD"
      },
      "outputs": [],
      "source": [
        "import tensorflow as tf\n",
        "from tensorflow.keras import datasets,layers,models\n",
        "import matplotlib.pyplot as plt\n",
        "import numpy as np"
      ]
    },
    {
      "cell_type": "code",
      "source": [
        "(x_train,y_train),(x_test,y_test)=datasets.cifar10.load_data()"
      ],
      "metadata": {
        "colab": {
          "base_uri": "https://localhost:8080/"
        },
        "id": "IOKMFdjDwERF",
        "outputId": "9d0bdd15-65ec-4abf-a3b9-b80b89f39221"
      },
      "execution_count": null,
      "outputs": [
        {
          "output_type": "stream",
          "name": "stdout",
          "text": [
            "Downloading data from https://www.cs.toronto.edu/~kriz/cifar-10-python.tar.gz\n",
            "170498071/170498071 [==============================] - 2s 0us/step\n"
          ]
        }
      ]
    },
    {
      "cell_type": "code",
      "source": [
        "x_train.shape"
      ],
      "metadata": {
        "colab": {
          "base_uri": "https://localhost:8080/"
        },
        "id": "ZNDgTp8vwGbk",
        "outputId": "22c6c672-5fb3-46b7-ab02-14f86044c528"
      },
      "execution_count": null,
      "outputs": [
        {
          "output_type": "execute_result",
          "data": {
            "text/plain": [
              "(50000, 32, 32, 3)"
            ]
          },
          "metadata": {},
          "execution_count": 3
        }
      ]
    },
    {
      "cell_type": "code",
      "source": [
        "\n",
        "x_test.shape"
      ],
      "metadata": {
        "colab": {
          "base_uri": "https://localhost:8080/"
        },
        "id": "uBqVPHDdwJn6",
        "outputId": "853b5899-0693-4544-8418-6ac52f6c422a"
      },
      "execution_count": null,
      "outputs": [
        {
          "output_type": "execute_result",
          "data": {
            "text/plain": [
              "(10000, 32, 32, 3)"
            ]
          },
          "metadata": {},
          "execution_count": 4
        }
      ]
    },
    {
      "cell_type": "code",
      "source": [
        "y_train.shape"
      ],
      "metadata": {
        "colab": {
          "base_uri": "https://localhost:8080/"
        },
        "id": "B_tJOoQHwJdP",
        "outputId": "d94664d8-91fb-4f87-835b-64a9bb75da35"
      },
      "execution_count": null,
      "outputs": [
        {
          "output_type": "execute_result",
          "data": {
            "text/plain": [
              "(50000, 1)"
            ]
          },
          "metadata": {},
          "execution_count": 5
        }
      ]
    },
    {
      "cell_type": "code",
      "source": [
        "y_train[:50]"
      ],
      "metadata": {
        "colab": {
          "base_uri": "https://localhost:8080/"
        },
        "id": "kAhL6krpwOCG",
        "outputId": "08da81a2-32a1-4066-f23a-8336767f9c01"
      },
      "execution_count": null,
      "outputs": [
        {
          "output_type": "execute_result",
          "data": {
            "text/plain": [
              "array([[6],\n",
              "       [9],\n",
              "       [9],\n",
              "       [4],\n",
              "       [1],\n",
              "       [1],\n",
              "       [2],\n",
              "       [7],\n",
              "       [8],\n",
              "       [3],\n",
              "       [4],\n",
              "       [7],\n",
              "       [7],\n",
              "       [2],\n",
              "       [9],\n",
              "       [9],\n",
              "       [9],\n",
              "       [3],\n",
              "       [2],\n",
              "       [6],\n",
              "       [4],\n",
              "       [3],\n",
              "       [6],\n",
              "       [6],\n",
              "       [2],\n",
              "       [6],\n",
              "       [3],\n",
              "       [5],\n",
              "       [4],\n",
              "       [0],\n",
              "       [0],\n",
              "       [9],\n",
              "       [1],\n",
              "       [3],\n",
              "       [4],\n",
              "       [0],\n",
              "       [3],\n",
              "       [7],\n",
              "       [3],\n",
              "       [3],\n",
              "       [5],\n",
              "       [2],\n",
              "       [2],\n",
              "       [7],\n",
              "       [1],\n",
              "       [1],\n",
              "       [1],\n",
              "       [2],\n",
              "       [2],\n",
              "       [0]], dtype=uint8)"
            ]
          },
          "metadata": {},
          "execution_count": 6
        }
      ]
    },
    {
      "cell_type": "code",
      "source": [
        "classes=[\"airplane\",\"automobile\",\"bird\",\"cat\",\"deer\",\"dog\",\"frog\",\"horse\",\"ship\",\"truck\"]\n",
        "def plot_sample(x,y,index):\n",
        "  plt.figure(figsize=(15,0.3))\n",
        "  plt.imshow(x[index])\n",
        "  plt.xlabel(classes[y[index]])"
      ],
      "metadata": {
        "id": "ZmdiNm0QwSJi"
      },
      "execution_count": null,
      "outputs": []
    },
    {
      "cell_type": "code",
      "source": [
        "y_train=y_train.reshape(-1,)\n",
        "y_test=y_test.reshape(-1,)"
      ],
      "metadata": {
        "id": "_xB6hUinwVxS"
      },
      "execution_count": null,
      "outputs": []
    },
    {
      "cell_type": "code",
      "source": [
        "plot_sample(x_train,y_train,0)"
      ],
      "metadata": {
        "colab": {
          "base_uri": "https://localhost:8080/",
          "height": 108
        },
        "id": "rzIVw_nZwYma",
        "outputId": "c809c6f8-6e3e-495d-87e3-42611febc967"
      },
      "execution_count": null,
      "outputs": [
        {
          "output_type": "display_data",
          "data": {
            "text/plain": [
              "<Figure size 1500x30 with 1 Axes>"
            ],
            "image/png": "[encoded data removed]"
          },
          "metadata": {}
        }
      ]
    },
    {
      "cell_type": "markdown",
      "source": [
        "NORMALISING THE TRAINING DATA"
      ],
      "metadata": {
        "id": "_YQvbqPgxPWt"
      }
    },
    {
      "cell_type": "code",
      "source": [
        "x_train=x_train/255.0"
      ],
      "metadata": {
        "id": "86qOveI8waa1"
      },
      "execution_count": null,
      "outputs": []
    },
    {
      "cell_type": "code",
      "source": [
        "x_test=x_test/255.0"
      ],
      "metadata": {
        "id": "FLstvX8PxKlI"
      },
      "execution_count": null,
      "outputs": []
    },
    {
      "cell_type": "markdown",
      "source": [
        "SPECIFYING ANN MODEL"
      ],
      "metadata": {
        "id": "BDp4AIqsxOGS"
      }
    },
    {
      "cell_type": "code",
      "source": [
        "ANN=models.Sequential([layers.Flatten(input_shape=(32,32,3)),\n",
        "                       layers.Dense(3000,activation='relu'),\n",
        "                       layers.Dense(1000,activation='relu'),\n",
        "                       layers.Dense(10,activation='softmax')])"
      ],
      "metadata": {
        "id": "xKv85GWexX7y"
      },
      "execution_count": null,
      "outputs": []
    },
    {
      "cell_type": "code",
      "source": [
        "ANN.compile(optimizer='SGD',loss='sparse_categorical_crossentropy',metrics=['accuracy'])\n",
        "ANN.fit(x_train,y_train,epochs=4)"
      ],
      "metadata": {
        "colab": {
          "base_uri": "https://localhost:8080/"
        },
        "id": "oyXjrPD0xcTn",
        "outputId": "5ecc72c7-e58c-481d-f1d7-af6e6dd5abc1"
      },
      "execution_count": null,
      "outputs": [
        {
          "output_type": "stream",
          "name": "stdout",
          "text": [
            "Epoch 1/4\n",
            "1563/1563 [==============================] - 145s 92ms/step - loss: 1.6247 - accuracy: 0.4263\n",
            "Epoch 2/4\n",
            "1563/1563 [==============================] - 137s 88ms/step - loss: 1.5440 - accuracy: 0.4568\n",
            "Epoch 3/4\n",
            "1563/1563 [==============================] - 138s 88ms/step - loss: 1.4825 - accuracy: 0.4774\n",
            "Epoch 4/4\n",
            "1563/1563 [==============================] - 138s 88ms/step - loss: 1.4299 - accuracy: 0.4952\n"
          ]
        },
        {
          "output_type": "execute_result",
          "data": {
            "text/plain": [
              "<keras.src.callbacks.History at 0x7cc66d4b8e80>"
            ]
          },
          "metadata": {},
          "execution_count": 14
        }
      ]
    },
    {
      "cell_type": "code",
      "source": [
        "from sklearn.metrics import confusion_matrix,classification_report\n",
        "y_predict=ANN.predict(x_test)\n",
        "y_predict_classes=[np.argmax(element)for element in y_predict]\n",
        "print(\"classificationreport\",classification_report(y_test,y_predict_classes))"
      ],
      "metadata": {
        "id": "VXzfh5JxxdPg",
        "colab": {
          "base_uri": "https://localhost:8080/"
        },
        "outputId": "f5e3b4db-494e-4bfc-c565-33926a07ab7a"
      },
      "execution_count": 15,
      "outputs": [
        {
          "output_type": "stream",
          "name": "stdout",
          "text": [
            "313/313 [==============================] - 17s 53ms/step\n",
            "classificationreport               precision    recall  f1-score   support\n",
            "\n",
            "           0       0.56      0.48      0.51      1000\n",
            "           1       0.57      0.64      0.60      1000\n",
            "           2       0.42      0.15      0.23      1000\n",
            "           3       0.45      0.19      0.27      1000\n",
            "           4       0.30      0.59      0.40      1000\n",
            "           5       0.51      0.26      0.34      1000\n",
            "           6       0.40      0.69      0.50      1000\n",
            "           7       0.66      0.42      0.51      1000\n",
            "           8       0.43      0.79      0.55      1000\n",
            "           9       0.66      0.37      0.48      1000\n",
            "\n",
            "    accuracy                           0.46     10000\n",
            "   macro avg       0.50      0.46      0.44     10000\n",
            "weighted avg       0.50      0.46      0.44     10000\n",
            "\n"
          ]
        }
      ]
    }
  ]
}